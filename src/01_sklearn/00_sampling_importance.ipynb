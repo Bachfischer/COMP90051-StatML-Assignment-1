{
 "cells": [
  {
   "cell_type": "code",
   "execution_count": 1,
   "metadata": {},
   "outputs": [],
   "source": [
    "import pandas as pd\n",
    "import networkx as nx\n",
    "import numpy as np\n",
    "import math\n",
    "import random\n",
    "import csv"
   ]
  },
  {
   "cell_type": "code",
   "execution_count": 2,
   "metadata": {},
   "outputs": [],
   "source": [
    "train_csv = pd.read_csv('./data/individual_links.txt', names=['source', 'destination'],sep='\\s+')\n",
    "g = nx.from_pandas_edgelist(train_csv, source='source',target='destination',create_using=nx.DiGraph())    "
   ]
  },
  {
   "cell_type": "code",
   "execution_count": 3,
   "metadata": {},
   "outputs": [
    {
     "name": "stdout",
     "output_type": "stream",
     "text": [
      "23946602\n",
      "4867136\n"
     ]
    }
   ],
   "source": [
    "num_edges = g.number_of_edges()\n",
    "num_nodes = g.number_of_nodes()\n",
    "print(num_edges)\n",
    "print(num_nodes)"
   ]
  },
  {
   "cell_type": "code",
   "execution_count": 4,
   "metadata": {},
   "outputs": [],
   "source": [
    "node_degree_dict=nx.degree_centrality(g)"
   ]
  },
  {
   "cell_type": "code",
   "execution_count": 5,
   "metadata": {},
   "outputs": [],
   "source": [
    "sorted_node_degree_list = sorted(node_degree_dict.items(), key=lambda x: x[1], reverse=True)    "
   ]
  },
  {
   "cell_type": "code",
   "execution_count": 1,
   "metadata": {},
   "outputs": [
    {
     "ename": "NameError",
     "evalue": "name 'sample_sorted_node_degree_list' is not defined",
     "output_type": "error",
     "traceback": [
      "\u001b[0;31m---------------------------------------------------------------------------\u001b[0m",
      "\u001b[0;31mNameError\u001b[0m                                 Traceback (most recent call last)",
      "\u001b[0;32m<ipython-input-1-5f57ec62b417>\u001b[0m in \u001b[0;36m<module>\u001b[0;34m\u001b[0m\n\u001b[0;32m----> 1\u001b[0;31m \u001b[0msample_sorted_node_degree_list\u001b[0m\u001b[0;34m\u001b[0m\u001b[0;34m\u001b[0m\u001b[0m\n\u001b[0m",
      "\u001b[0;31mNameError\u001b[0m: name 'sample_sorted_node_degree_list' is not defined"
     ]
    }
   ],
   "source": [
    "sorted_node_degree_list"
   ]
  },
  {
   "cell_type": "code",
   "execution_count": 6,
   "metadata": {},
   "outputs": [],
   "source": [
    "# Get top Million\n",
    "N = 1000000\n",
    "sample_sorted_node_degree_list = sorted_node_degree_list[0:N]"
   ]
  },
  {
   "cell_type": "code",
   "execution_count": 7,
   "metadata": {},
   "outputs": [],
   "source": [
    "#randomly select 10% edges as training edges\n",
    "#num_test_edges = int(math.floor(0.01 * num_edges))\n",
    "\n",
    "#num_test_edges = 20000\n",
    "num_test_edges = 50000\n",
    "\n"
   ]
  },
  {
   "cell_type": "code",
   "execution_count": null,
   "metadata": {},
   "outputs": [],
   "source": []
  },
  {
   "cell_type": "code",
   "execution_count": 8,
   "metadata": {},
   "outputs": [],
   "source": [
    "#edges_pos = random.sample(g.edges(), num_test_edges)"
   ]
  },
  {
   "cell_type": "code",
   "execution_count": 9,
   "metadata": {},
   "outputs": [],
   "source": [
    "i = 0\n",
    "edges_pos = []\n",
    "while i < num_test_edges:\n",
    "    node = random.sample(sample_sorted_node_degree_list, 1)\n",
    "    node = node[0][0]\n",
    "    try:\n",
    "        # get neighbors from node\n",
    "        neighbors = list(g.neighbors(node))\n",
    "        random_neighbor = random.sample(neighbors,1)[0]\n",
    "        \n",
    "        edges_pos.append([node,random_neighbor])\n",
    "        i = i+1\n",
    "    except Exception as e:\n",
    "        #print(e)\n",
    "        pass"
   ]
  },
  {
   "cell_type": "code",
   "execution_count": null,
   "metadata": {},
   "outputs": [],
   "source": []
  },
  {
   "cell_type": "code",
   "execution_count": null,
   "metadata": {},
   "outputs": [],
   "source": []
  },
  {
   "cell_type": "code",
   "execution_count": 10,
   "metadata": {},
   "outputs": [],
   "source": [
    "with open(\"edges_pos_importance_sampling.csv\",\"w\") as csvfile:\n",
    "    writer=csv.writer(csvfile)\n",
    "    writer.writerow([\"Source\", \"Target\", \"Label\"])\n",
    "    for edge in edges_pos:\n",
    "        writer.writerow([edge[0], edge[1],1])"
   ]
  },
  {
   "cell_type": "code",
   "execution_count": 11,
   "metadata": {},
   "outputs": [],
   "source": [
    "i = 0\n",
    "edges_neg = []\n",
    "while i < num_test_edges:\n",
    "    edge = random.sample(sample_sorted_node_degree_list, 2)\n",
    "    source = edge[0][0]\n",
    "    target = edge[1][0]\n",
    "\n",
    "    try:\n",
    "        edge_exists = g.has_edge(source,target)\n",
    "        if edge_exists == False:\n",
    "            edges_neg.append([source, target])\n",
    "            i = i+1\n",
    "    except Exception as e:\n",
    "        print(e)\n",
    "        pass"
   ]
  },
  {
   "cell_type": "code",
   "execution_count": null,
   "metadata": {},
   "outputs": [],
   "source": []
  },
  {
   "cell_type": "code",
   "execution_count": 12,
   "metadata": {},
   "outputs": [],
   "source": [
    "with open(\"edges_neg_importance_sampling.csv\",\"w\",newline=\"\") as csvfile:\n",
    "    writer=csv.writer(csvfile)\n",
    "    writer.writerow([\"Source\",\"Target\", \"Label\"])\n",
    "    for edge in edges_neg:\n",
    "        writer.writerow([edge[0], edge[1], 0])"
   ]
  },
  {
   "cell_type": "code",
   "execution_count": null,
   "metadata": {},
   "outputs": [],
   "source": []
  },
  {
   "cell_type": "code",
   "execution_count": null,
   "metadata": {},
   "outputs": [],
   "source": []
  },
  {
   "cell_type": "code",
   "execution_count": null,
   "metadata": {},
   "outputs": [],
   "source": []
  },
  {
   "cell_type": "code",
   "execution_count": null,
   "metadata": {},
   "outputs": [],
   "source": []
  },
  {
   "cell_type": "code",
   "execution_count": null,
   "metadata": {},
   "outputs": [],
   "source": []
  }
 ],
 "metadata": {
  "environment": {
   "name": "tf-gpu.1-15.m55",
   "type": "gcloud",
   "uri": "gcr.io/deeplearning-platform-release/tf-gpu.1-15:m55"
  },
  "kernelspec": {
   "display_name": "Python 3",
   "language": "python",
   "name": "python3"
  },
  "language_info": {
   "codemirror_mode": {
    "name": "ipython",
    "version": 3
   },
   "file_extension": ".py",
   "mimetype": "text/x-python",
   "name": "python",
   "nbconvert_exporter": "python",
   "pygments_lexer": "ipython3",
   "version": "3.7.8"
  }
 },
 "nbformat": 4,
 "nbformat_minor": 4
}
