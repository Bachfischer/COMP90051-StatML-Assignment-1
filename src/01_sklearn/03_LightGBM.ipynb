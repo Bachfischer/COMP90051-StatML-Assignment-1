{
 "cells": [
  {
   "cell_type": "code",
   "execution_count": 5,
   "metadata": {},
   "outputs": [],
   "source": [
    "import numpy as np\n",
    "import matplotlib.pyplot as plt\n",
    "import pandas as pd\n",
    "import lightgbm as lgb\n",
    "\n",
    "# Importing the dataset\n",
    "dataset = pd.read_csv('./train_50k.csv')\n",
    "\n",
    "FEATURE_SIZE=5\n",
    "\n",
    "\n",
    "#X = dataset.iloc[:,0:4].values\n",
    "X = dataset.iloc[:,0:FEATURE_SIZE-1].values\n",
    "y = dataset.iloc[:,FEATURE_SIZE].values\n",
    "\n",
    "# Splitting the dataset into the Training set and Test set\n",
    "from sklearn.model_selection import train_test_split\n",
    "x_train, x_val, y_train, y_val = train_test_split(X, y, test_size = 0.2, random_state = 0)\n",
    "x_val, x_test, y_val, y_test = train_test_split(x_val, y_val, test_size = 0.2, random_state = 0)\n",
    "\n",
    "# Feature Scaling\n",
    "from sklearn.preprocessing import StandardScaler\n",
    "sc = StandardScaler()\n",
    "x_train = sc.fit_transform(x_train)\n",
    "x_test = sc.transform(x_test)\n",
    "x_val=sc.transform(x_val)\n",
    "\n"
   ]
  },
  {
   "cell_type": "code",
   "execution_count": 6,
   "metadata": {},
   "outputs": [
    {
     "data": {
      "text/plain": [
       "array([[1.00000000e+00, 8.02568218e-04, 2.18340611e-03, 1.40297836e-01],\n",
       "       [0.00000000e+00, 0.00000000e+00, 0.00000000e+00, 0.00000000e+00],\n",
       "       [5.00000000e+00, 6.34518734e-03, 5.81929912e-05, 5.43840072e-01],\n",
       "       ...,\n",
       "       [0.00000000e+00, 0.00000000e+00, 0.00000000e+00, 0.00000000e+00],\n",
       "       [0.00000000e+00, 0.00000000e+00, 0.00000000e+00, 0.00000000e+00],\n",
       "       [0.00000000e+00, 0.00000000e+00, 0.00000000e+00, 0.00000000e+00]])"
      ]
     },
     "execution_count": 6,
     "metadata": {},
     "output_type": "execute_result"
    }
   ],
   "source": [
    "X"
   ]
  },
  {
   "cell_type": "code",
   "execution_count": 7,
   "metadata": {},
   "outputs": [
    {
     "data": {
      "text/plain": [
       "array([1, 1, 1, ..., 0, 0, 0])"
      ]
     },
     "execution_count": 7,
     "metadata": {},
     "output_type": "execute_result"
    }
   ],
   "source": [
    "y"
   ]
  },
  {
   "cell_type": "code",
   "execution_count": 8,
   "metadata": {},
   "outputs": [
    {
     "name": "stdout",
     "output_type": "stream",
     "text": [
      "[LightGBM] [Info] Number of positive: 15996, number of negative: 16004\n",
      "[LightGBM] [Warning] Auto-choosing row-wise multi-threading, the overhead of testing was 0.000196 seconds.\n",
      "You can set `force_row_wise=true` to remove the overhead.\n",
      "And if memory is not enough, you can set `force_col_wise=true`.\n",
      "[LightGBM] [Info] Total Bins 1020\n",
      "[LightGBM] [Info] Number of data points in the train set: 32000, number of used features: 4\n",
      "[LightGBM] [Info] [binary:BoostFromScore]: pavg=0.499875 -> initscore=-0.000500\n",
      "[LightGBM] [Info] Start training from score -0.000500\n",
      "[1]\tvalid_0's auc: 0.908583\n",
      "[2]\tvalid_0's auc: 0.90858\n",
      "[3]\tvalid_0's auc: 0.908456\n",
      "[4]\tvalid_0's auc: 0.908215\n",
      "[5]\tvalid_0's auc: 0.908196\n",
      "[6]\tvalid_0's auc: 0.908127\n",
      "[7]\tvalid_0's auc: 0.908137\n",
      "[8]\tvalid_0's auc: 0.908146\n",
      "[9]\tvalid_0's auc: 0.908453\n",
      "[10]\tvalid_0's auc: 0.908698\n",
      "[11]\tvalid_0's auc: 0.908709\n",
      "[12]\tvalid_0's auc: 0.908773\n",
      "[13]\tvalid_0's auc: 0.908776\n",
      "[14]\tvalid_0's auc: 0.908789\n",
      "[15]\tvalid_0's auc: 0.908804\n",
      "[16]\tvalid_0's auc: 0.908812\n",
      "[17]\tvalid_0's auc: 0.908811\n",
      "[18]\tvalid_0's auc: 0.90878\n",
      "[19]\tvalid_0's auc: 0.908781\n",
      "[20]\tvalid_0's auc: 0.908788\n",
      "0.89\n",
      "0.8919776483920128\n"
     ]
    }
   ],
   "source": [
    "# Training\n",
    "d_train = lgb.Dataset(x_train, label=y_train)\n",
    "d_val = lgb.Dataset(x_val, label=y_val)\n",
    "d_test=lgb.Dataset(x_test,label=y_test)\n",
    "\n",
    "\n",
    "params = {\n",
    "            'objective': 'binary',\n",
    "            'boosting_type': 'gbdt',\n",
    "#             'boosting_type': 'rf',\n",
    "#            'nthread': 4,\n",
    "#            'learning_rate': 0.02,  # 02,\n",
    "#            'num_leaves': 15,\n",
    "#            'feature_fraction': 0.9,\n",
    "#            'bagging_fraction': 0.7,\n",
    "#            'bagging_freq': 1,\n",
    "#            'early_stopping_round':5,\n",
    "#            'max_depth':2,\n",
    "#            'reg_alpha': 0.041545473,\n",
    "#            'reg_lambda': 0.0735294,\n",
    "#            'min_split_gain': 0.0222415,\n",
    "#            'min_child_weight': 60,\n",
    "#            'seed': 0,\n",
    "#            'verbose': -1,\n",
    "            'metric': 'auc',\n",
    "}\n",
    "\n",
    "\n",
    "\n",
    "\n",
    "clf = lgb.train(params, d_train, 20,d_val)\n",
    "\n",
    "#Prediction\n",
    "y_pred=clf.predict(x_test)\n",
    "#convert into binary values\n",
    "for i in range(len(y_pred)):\n",
    "    if y_pred[i]>=.5:       # setting threshold to .5\n",
    "        y_pred[i]=1\n",
    "    else:\n",
    "        y_pred[i]=0\n",
    "    \n",
    "#Accuracy\n",
    "from sklearn.metrics import accuracy_score\n",
    "accuracy=accuracy_score(y_pred,y_test)\n",
    "print(accuracy)\n",
    "\n",
    "# AUC\n",
    "from sklearn.metrics import roc_auc_score\n",
    "print(roc_auc_score(y_test, y_pred))\n",
    "\n"
   ]
  },
  {
   "cell_type": "code",
   "execution_count": 9,
   "metadata": {},
   "outputs": [],
   "source": [
    "testdata = pd.read_csv('./test_50k.csv')\n",
    "x_testing = testdata.iloc[:,0:FEATURE_SIZE-1].values\n",
    "x_testing = sc.transform(x_testing)\n",
    "y_pred=clf.predict(x_testing)"
   ]
  },
  {
   "cell_type": "code",
   "execution_count": 170,
   "metadata": {},
   "outputs": [],
   "source": [
    "import csv\n",
    "with open(\"kaggle_light_gbm.csv\",\"w\",newline=\"\") as csvfile:\n",
    "    writer=csv.writer(csvfile)\n",
    "    writer.writerow([\"Id\",\"Predicted\"])\n",
    "    test_id=1\n",
    "    for prediction in y_pred:\n",
    "        writer.writerow([test_id,prediction])\n",
    "        test_id+=1"
   ]
  },
  {
   "cell_type": "code",
   "execution_count": 132,
   "metadata": {},
   "outputs": [],
   "source": [
    "# 76 % Submission on Kaggle with random sampling"
   ]
  },
  {
   "cell_type": "code",
   "execution_count": null,
   "metadata": {},
   "outputs": [],
   "source": []
  },
  {
   "cell_type": "code",
   "execution_count": null,
   "metadata": {},
   "outputs": [],
   "source": []
  },
  {
   "cell_type": "code",
   "execution_count": null,
   "metadata": {},
   "outputs": [],
   "source": []
  }
 ],
 "metadata": {
  "environment": {
   "name": "tf-gpu.1-15.m55",
   "type": "gcloud",
   "uri": "gcr.io/deeplearning-platform-release/tf-gpu.1-15:m55"
  },
  "kernelspec": {
   "display_name": "Python 3",
   "language": "python",
   "name": "python3"
  },
  "language_info": {
   "codemirror_mode": {
    "name": "ipython",
    "version": 3
   },
   "file_extension": ".py",
   "mimetype": "text/x-python",
   "name": "python",
   "nbconvert_exporter": "python",
   "pygments_lexer": "ipython3",
   "version": "3.8.3"
  }
 },
 "nbformat": 4,
 "nbformat_minor": 4
}
