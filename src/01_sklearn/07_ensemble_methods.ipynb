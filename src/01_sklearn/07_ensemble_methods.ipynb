{
 "cells": [
  {
   "cell_type": "code",
   "execution_count": 1,
   "metadata": {},
   "outputs": [
    {
     "name": "stdout",
     "output_type": "stream",
     "text": [
      "       CN        RA        JC         AA  Label\n",
      "0      89  0.016363  0.020588  10.121960      1\n",
      "1      14  0.004045  0.006890   1.607620      1\n",
      "2       2  0.000003  0.000017   0.149925      1\n",
      "3       0  0.000000  0.000000   0.000000      1\n",
      "4       0  0.000000  0.000000   0.000000      1\n",
      "...    ..       ...       ...        ...    ...\n",
      "99995   0  0.000000  0.000000   0.000000      0\n",
      "99996   0  0.000000  0.000000   0.000000      0\n",
      "99997   0  0.000000  0.000000   0.000000      0\n",
      "99998   0  0.000000  0.000000   0.000000      0\n",
      "99999   0  0.000000  0.000000   0.000000      0\n",
      "\n",
      "[100000 rows x 5 columns]\n"
     ]
    }
   ],
   "source": [
    "import numpy as np\n",
    "import matplotlib.pyplot as plt\n",
    "import pandas as pd\n",
    "from sklearn.svm import SVC\n",
    "from sklearn.metrics import roc_auc_score\n",
    "from sklearn.svm import SVC\n",
    "from sklearn.metrics import roc_auc_score\n",
    "from sklearn.experimental import enable_hist_gradient_boosting\n",
    "from sklearn.ensemble import RandomForestClassifier,AdaBoostClassifier,GradientBoostingClassifier,ExtraTreesClassifier,BaggingClassifier,StackingClassifier,VotingClassifier,HistGradientBoostingClassifier\n",
    "from sklearn.ensemble import VotingClassifier\n",
    "from sklearn.model_selection import cross_val_score,RepeatedStratifiedKFold\n",
    "from matplotlib import pyplot\n",
    "\n",
    "# Importing the dataset\n",
    "dataset = pd.read_csv('./data/train_50k.csv',delimiter =',')\n",
    "dataset = dataset.drop(['PA'],axis=1)\n",
    "print(dataset)"
   ]
  },
  {
   "cell_type": "code",
   "execution_count": 2,
   "metadata": {},
   "outputs": [
    {
     "data": {
      "text/plain": [
       "array([[8.90000000e+01, 1.63630019e-02, 2.05875549e-02, 1.01219597e+01],\n",
       "       [1.40000000e+01, 4.04548800e-03, 6.88976378e-03, 1.60762045e+00],\n",
       "       [2.00000000e+00, 3.27318232e-06, 1.67571553e-05, 1.49924838e-01],\n",
       "       ...,\n",
       "       [0.00000000e+00, 0.00000000e+00, 0.00000000e+00, 0.00000000e+00],\n",
       "       [0.00000000e+00, 0.00000000e+00, 0.00000000e+00, 0.00000000e+00],\n",
       "       [0.00000000e+00, 0.00000000e+00, 0.00000000e+00, 0.00000000e+00]])"
      ]
     },
     "execution_count": 2,
     "metadata": {},
     "output_type": "execute_result"
    }
   ],
   "source": [
    "FEATURE_SIZE=4\n",
    "X = dataset.iloc[:,0:FEATURE_SIZE].values\n",
    "y = dataset.iloc[:, FEATURE_SIZE].values\n",
    "X"
   ]
  },
  {
   "cell_type": "code",
   "execution_count": 3,
   "metadata": {},
   "outputs": [
    {
     "name": "stdout",
     "output_type": "stream",
     "text": [
      "-0.16773780289600349\n"
     ]
    }
   ],
   "source": [
    "# Splitting the dataset into the Training set and Test set\n",
    "from sklearn.model_selection import train_test_split\n",
    "x_train, x_test, y_train, y_test = train_test_split(X, y, test_size = 0.2, random_state = 0)\n",
    "# Feature Scaling\n",
    "from sklearn.preprocessing import StandardScaler\n",
    "sc = StandardScaler()\n",
    "x_train = sc.fit_transform(x_train)\n",
    "x_test = sc.transform(x_test)\n",
    "print(np.amin(x_test))"
   ]
  },
  {
   "cell_type": "code",
   "execution_count": 4,
   "metadata": {},
   "outputs": [],
   "source": [
    "# self defined scorer function, using auc.\n",
    "def scorer(estimator,X,y):\n",
    "    pre = estimator.predict_proba(x_test)\n",
    "    y_pre=[p[1] for p in pre]\n",
    "    acc=estimator.score(x_test,y_test)\n",
    "    auc=roc_auc_score(y_test,y_pre)\n",
    "    print(estimator, auc,acc)\n",
    "    #return acc\n",
    "    return auc\n"
   ]
  },
  {
   "cell_type": "code",
   "execution_count": null,
   "metadata": {},
   "outputs": [
    {
     "name": "stdout",
     "output_type": "stream",
     "text": [
      "Fitting 5 folds for each of 12 candidates, totalling 60 fits\n"
     ]
    },
    {
     "name": "stderr",
     "output_type": "stream",
     "text": [
      "[Parallel(n_jobs=-1)]: Using backend LokyBackend with 8 concurrent workers.\n"
     ]
    }
   ],
   "source": [
    "#test the different parameters of svm\n",
    "\n",
    "from sklearn.model_selection import GridSearchCV as gsc\n",
    "#parameters used \n",
    "parameters = {'kernel':('linear','poly', 'rbf', 'sigmoid'), 'C':[1,5,10]}\n",
    "svc = SVC(probability=True)\n",
    "clf = gsc(svc,parameters,n_jobs=-1,scoring=scorer, verbose=10)\n",
    "clf.fit(x_train,y_train)\n",
    "pre=clf.predict_proba(x_test)\n",
    "#print out the best parameters\n",
    "print(clf.best_params_)\n",
    "\n",
    "\n"
   ]
  },
  {
   "cell_type": "code",
   "execution_count": 7,
   "metadata": {},
   "outputs": [
    {
     "name": "stdout",
     "output_type": "stream",
     "text": [
      "Fitting 5 folds for each of 9 candidates, totalling 45 fits\n"
     ]
    },
    {
     "name": "stderr",
     "output_type": "stream",
     "text": [
      "[Parallel(n_jobs=-1)]: Using backend LokyBackend with 8 concurrent workers.\n",
      "[Parallel(n_jobs=-1)]: Done   2 tasks      | elapsed:   23.6s\n",
      "[Parallel(n_jobs=-1)]: Done   9 tasks      | elapsed:  2.7min\n",
      "[Parallel(n_jobs=-1)]: Done  16 tasks      | elapsed:  4.8min\n",
      "[Parallel(n_jobs=-1)]: Done  25 tasks      | elapsed: 17.8min\n",
      "[Parallel(n_jobs=-1)]: Done  35 out of  45 | elapsed: 20.8min remaining:  6.0min\n",
      "[Parallel(n_jobs=-1)]: Done  40 out of  45 | elapsed: 29.6min remaining:  3.7min\n",
      "[Parallel(n_jobs=-1)]: Done  45 out of  45 | elapsed: 32.1min remaining:    0.0s\n",
      "[Parallel(n_jobs=-1)]: Done  45 out of  45 | elapsed: 32.1min finished\n"
     ]
    },
    {
     "name": "stdout",
     "output_type": "stream",
     "text": [
      "{'min_samples_split': 6, 'n_estimators': 10000}\n"
     ]
    }
   ],
   "source": [
    "#test forest params using grid search\n",
    "from sklearn.model_selection import GridSearchCV as gsc\n",
    "parameters = {'n_estimators':[100,1000,10000],'min_samples_split':[2,4,6]}\n",
    "rfc = RandomForestClassifier(n_estimators=1000, max_features=\"auto\",random_state=0)\n",
    "clf = gsc(rfc,parameters,n_jobs=-1,scoring=scorer, verbose=10)\n",
    "clf.fit(x_train,y_train)\n",
    "pre=clf.predict_proba(x_test)\n",
    "#print out the best parameters\n",
    "print(clf.best_params_)"
   ]
  },
  {
   "cell_type": "code",
   "execution_count": null,
   "metadata": {},
   "outputs": [],
   "source": []
  },
  {
   "cell_type": "code",
   "execution_count": 49,
   "metadata": {},
   "outputs": [
    {
     "name": "stdout",
     "output_type": "stream",
     "text": [
      "0.89125\n",
      "0.9002861661402214\n"
     ]
    }
   ],
   "source": [
    "#training new features on best_params_\n",
    "svc = SVC(kernel='linear',C=10,probability=True)\n",
    "svc.fit(x_train,y_train)\n",
    "pre=svc.predict_proba(x_test)\n",
    "y_pre=[p[1] for p in pre]\n",
    "acc=svc.score(x_test,y_test)\n",
    "print(acc)\n",
    "auc=roc_auc_score(y_test,y_pre)\n",
    "print(auc)\n"
   ]
  },
  {
   "cell_type": "code",
   "execution_count": 5,
   "metadata": {},
   "outputs": [
    {
     "name": "stdout",
     "output_type": "stream",
     "text": [
      "0.81335\n",
      "0.8975497047993554\n"
     ]
    }
   ],
   "source": [
    "#test params\n",
    "svc = SVC(kernel='linear',C=10,probability=True)\n",
    "ada=AdaBoostClassifier(svc,n_estimators=5)\n",
    "ada.fit(x_train,y_train)\n",
    "pre=ada.predict_proba(x_test)\n",
    "y_pre=[p[1] for p in pre]\n",
    "acc=ada.score(x_test,y_test)\n",
    "print(acc)\n",
    "auc=roc_auc_score(y_test,y_pre)\n",
    "print(auc)"
   ]
  },
  {
   "cell_type": "code",
   "execution_count": 51,
   "metadata": {},
   "outputs": [],
   "source": [
    "#get models for voting\n",
    "def get_voting():\n",
    "    models = list()\n",
    "    svc = SVC(kernel='linear',C=10,probability=True)\n",
    "    #models.append(('ada',AdaBoostClassifier(svc,n_estimators=4)))\n",
    "    #models.append(('bc',BaggingClassifier(base_estimator=SVC(kernel='linear',C=10,probability=True),n_estimators=10, random_state=0)))\n",
    "    models.append(('etc',ExtraTreesClassifier(n_estimators=1000, random_state=0)))\n",
    "    models.append(('gbc',GradientBoostingClassifier(random_state=0)))\n",
    "    models.append(('hgbc',HistGradientBoostingClassifier()))\n",
    "    models.append(('rfc',RandomForestClassifier(n_estimators=1000, max_features=\"auto\",random_state=0)))\n",
    "    ensemble = VotingClassifier(estimators=models,voting = 'soft')\n",
    "    return ensemble\n",
    "    \n"
   ]
  },
  {
   "cell_type": "code",
   "execution_count": 52,
   "metadata": {},
   "outputs": [],
   "source": [
    "#get models for individual testing\n",
    "def get_models():\n",
    "    models = dict() \n",
    "    svc = SVC(kernel='linear',C=10,probability=True)\n",
    "    #models['ada'] = AdaBoostClassifier(svc,n_estimators=4)\n",
    "    #models['bc'] = BaggingClassifier(base_estimator=SVC(kernel='linear',C=10,probability=True),n_estimators=10, random_state=0)\n",
    "    models['etc'] = ExtraTreesClassifier(n_estimators=10000,min_samples_split=6, random_state=0)\n",
    "    models['gbc'] = GradientBoostingClassifier(random_state=0)\n",
    "    models['hgbc'] = HistGradientBoostingClassifier()\n",
    "    models['rfc']  = RandomForestClassifier(n_estimators=10000,min_samples_split=6, max_features=\"auto\",random_state=0)\n",
    "    models['voting'] = get_voting()\n",
    "    return models\n"
   ]
  },
  {
   "cell_type": "code",
   "execution_count": 53,
   "metadata": {},
   "outputs": [],
   "source": [
    "#cross-validation testing on ensemble methods\n",
    "def evaluate(model,X,y):\n",
    "    cv = RepeatedStratifiedKFold(n_splits=10, n_repeats=3, random_state = 0)\n",
    "    results = cross_val_score(model,X,y,scoring=scorer,cv=cv,n_jobs=-1,error_score='raise', verbose=10)\n",
    "    return results\n"
   ]
  },
  {
   "cell_type": "code",
   "execution_count": null,
   "metadata": {},
   "outputs": [
    {
     "name": "stdout",
     "output_type": "stream",
     "text": [
      "etc\n"
     ]
    },
    {
     "name": "stderr",
     "output_type": "stream",
     "text": [
      "[Parallel(n_jobs=-1)]: Using backend LokyBackend with 8 concurrent workers.\n",
      "[Parallel(n_jobs=-1)]: Done   2 tasks      | elapsed:  7.9min\n",
      "[Parallel(n_jobs=-1)]: Done   9 tasks      | elapsed: 15.8min\n",
      "[Parallel(n_jobs=-1)]: Done  19 out of  30 | elapsed: 24.2min remaining: 14.0min\n",
      "[Parallel(n_jobs=-1)]: Done  23 out of  30 | elapsed: 24.6min remaining:  7.5min\n",
      "[Parallel(n_jobs=-1)]: Done  27 out of  30 | elapsed: 30.5min remaining:  3.4min\n",
      "[Parallel(n_jobs=-1)]: Done  30 out of  30 | elapsed: 30.6min finished\n",
      "[Parallel(n_jobs=-1)]: Using backend LokyBackend with 8 concurrent workers.\n"
     ]
    },
    {
     "name": "stdout",
     "output_type": "stream",
     "text": [
      ">etc 0.9009 (0.000)\n",
      "gbc\n"
     ]
    },
    {
     "name": "stderr",
     "output_type": "stream",
     "text": [
      "[Parallel(n_jobs=-1)]: Done   2 tasks      | elapsed:    7.4s\n",
      "[Parallel(n_jobs=-1)]: Done   9 tasks      | elapsed:   16.0s\n",
      "[Parallel(n_jobs=-1)]: Done  19 out of  30 | elapsed:   24.6s remaining:   14.2s\n",
      "[Parallel(n_jobs=-1)]: Done  23 out of  30 | elapsed:   28.5s remaining:    8.6s\n",
      "[Parallel(n_jobs=-1)]: Done  27 out of  30 | elapsed:   31.3s remaining:    3.4s\n",
      "[Parallel(n_jobs=-1)]: Done  30 out of  30 | elapsed:   31.5s finished\n",
      "[Parallel(n_jobs=-1)]: Using backend LokyBackend with 8 concurrent workers.\n"
     ]
    },
    {
     "name": "stdout",
     "output_type": "stream",
     "text": [
      ">gbc 0.9016 (0.000)\n",
      "hgbc\n"
     ]
    },
    {
     "name": "stderr",
     "output_type": "stream",
     "text": [
      "[Parallel(n_jobs=-1)]: Done   2 tasks      | elapsed:    1.3s\n",
      "[Parallel(n_jobs=-1)]: Done   9 tasks      | elapsed:    2.9s\n",
      "[Parallel(n_jobs=-1)]: Done  19 out of  30 | elapsed:    4.6s remaining:    2.6s\n",
      "[Parallel(n_jobs=-1)]: Done  23 out of  30 | elapsed:    5.1s remaining:    1.5s\n",
      "[Parallel(n_jobs=-1)]: Done  27 out of  30 | elapsed:    6.1s remaining:    0.6s\n",
      "[Parallel(n_jobs=-1)]: Done  30 out of  30 | elapsed:    6.3s finished\n"
     ]
    },
    {
     "name": "stdout",
     "output_type": "stream",
     "text": [
      ">hgbc 0.9017 (0.000)\n",
      "rfc\n"
     ]
    },
    {
     "name": "stderr",
     "output_type": "stream",
     "text": [
      "[Parallel(n_jobs=-1)]: Using backend LokyBackend with 8 concurrent workers.\n",
      "[Parallel(n_jobs=-1)]: Done   2 tasks      | elapsed: 12.1min\n"
     ]
    }
   ],
   "source": [
    "#main and print for acores\n",
    "models = get_models()\n",
    "results, names = list(), list()\n",
    "for name, model in models.items():\n",
    "    print(name)\n",
    "    scores = evaluate(model,x_train,y_train)\n",
    "    results.append(scores)\n",
    "    names.append(name)\n",
    "    print('>%s %.4f (%.3f)' % (name, np.mean(scores), np.std(scores)))\n",
    "\n",
    "\n",
    "    "
   ]
  },
  {
   "cell_type": "code",
   "execution_count": 27,
   "metadata": {},
   "outputs": [
    {
     "data": {
      "image/png": "[encoded data removed]",
      "text/plain": [
       "<Figure size 432x288 with 1 Axes>"
      ]
     },
     "metadata": {
      "needs_background": "light"
     },
     "output_type": "display_data"
    }
   ],
   "source": [
    "#plot\n",
    "pyplot.boxplot(results,labels=names,showmeans=True)\n",
    "pyplot.show()"
   ]
  },
  {
   "cell_type": "code",
   "execution_count": 28,
   "metadata": {},
   "outputs": [
    {
     "data": {
      "text/plain": [
       "'\\nprob_predictions = [y_pre_ada,y_pre_rfc,y_pre_gbc,y_pre_bc,y_pre_etc,y_pre_hgbc]\\nensemble_pred = [sum(x)/len(x) for x in zip(*prob_predictions)]\\nauc = roc_auc_score(y_test,ensemble_pred)\\nprint(auc)\\n'"
      ]
     },
     "execution_count": 28,
     "metadata": {},
     "output_type": "execute_result"
    }
   ],
   "source": [
    "'''\n",
    "prob_predictions = [y_pre_ada,y_pre_rfc,y_pre_gbc,y_pre_bc,y_pre_etc,y_pre_hgbc]\n",
    "ensemble_pred = [sum(x)/len(x) for x in zip(*prob_predictions)]\n",
    "auc = roc_auc_score(y_test,ensemble_pred)\n",
    "print(auc)\n",
    "'''"
   ]
  },
  {
   "cell_type": "code",
   "execution_count": 29,
   "metadata": {},
   "outputs": [
    {
     "name": "stdout",
     "output_type": "stream",
     "text": [
      "VotingClassifier(estimators=[('ada', AdaBoostClassifier(n_estimators=1000)),\n",
      "                             ('etc',\n",
      "                              ExtraTreesClassifier(n_estimators=1000,\n",
      "                                                   random_state=0)),\n",
      "                             ('gbc',\n",
      "                              GradientBoostingClassifier(random_state=0)),\n",
      "                             ('hgbc', HistGradientBoostingClassifier()),\n",
      "                             ('rfc',\n",
      "                              RandomForestClassifier(n_estimators=1000,\n",
      "                                                     random_state=0))],\n",
      "                 voting='soft') 0.9015960617820703 0.89335\n"
     ]
    }
   ],
   "source": [
    "#train the ensemble methods via voting and validate\n",
    "ensemble = get_voting()\n",
    "ensemble.fit(x_train,y_train)\n",
    "pre = ensemble.predict_proba(x_test)\n",
    "y_pre=[p[1] for p in pre]\n",
    "acc=ensemble.score(x_test,y_test)\n",
    "auc=roc_auc_score(y_test,y_pre)\n",
    "print(ensemble, auc,acc)\n"
   ]
  },
  {
   "cell_type": "code",
   "execution_count": 30,
   "metadata": {},
   "outputs": [],
   "source": [
    "#perform final test on kaggle data\n",
    "testdata = pd.read_csv('./data/test_50k.csv')\n",
    "x_testing = testdata.iloc[:,0:FEATURE_SIZE].values \n",
    "x_testing = sc.transform(x_testing)\n",
    "predictions=ensemble.predict_proba(x_testing)"
   ]
  },
  {
   "cell_type": "code",
   "execution_count": 31,
   "metadata": {},
   "outputs": [],
   "source": [
    "#print kaggle data to file.\n",
    "import csv\n",
    "with open(\"./data/kaggle.csv\",\"w\",newline=\"\") as csvfile:\n",
    "    writer=csv.writer(csvfile)\n",
    "    writer.writerow([\"Id\",\"Predicted\"])\n",
    "    test_id=1\n",
    "    for prediction in predictions:\n",
    "        writer.writerow([test_id,prediction[1]])\n",
    "        test_id+=1"
   ]
  },
  {
   "cell_type": "code",
   "execution_count": null,
   "metadata": {},
   "outputs": [],
   "source": []
  }
 ],
 "metadata": {
  "kernelspec": {
   "display_name": "Python 3",
   "language": "python",
   "name": "python3"
  },
  "language_info": {
   "codemirror_mode": {
    "name": "ipython",
    "version": 3
   },
   "file_extension": ".py",
   "mimetype": "text/x-python",
   "name": "python",
   "nbconvert_exporter": "python",
   "pygments_lexer": "ipython3",
   "version": "3.8.3"
  }
 },
 "nbformat": 4,
 "nbformat_minor": 4
}
