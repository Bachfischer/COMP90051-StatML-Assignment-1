{
 "cells": [
  {
   "cell_type": "markdown",
   "metadata": {},
   "source": [
    "## Split original dataset into rows of source -> destination pairs"
   ]
  },
  {
   "cell_type": "code",
   "execution_count": null,
   "metadata": {},
   "outputs": [],
   "source": [
    "seen = set()\n",
    "with open('train.txt','r') as lines:\n",
    "  i = 0\n",
    "  for line in csv.reader(lines,delimiter='\\t'):\n",
    "    i += 1\n",
    "    og_num = line[0]\n",
    "    line.remove(og_num)\n",
    "    for i,number in enumerate(line,start=0):\n",
    "      combination = tuple([og_num,number])\n",
    "      seen.add(combination)\n",
    "print(seen)\n",
    "with open('individual_links.txt','w') as out:\n",
    "  for number in seen:\n",
    "    out.write(' '.join(str(s) for s in number) + '\\n')"
   ]
  }
 ],
 "metadata": {
  "environment": {
   "name": "tf-gpu.1-15.m55",
   "type": "gcloud",
   "uri": "gcr.io/deeplearning-platform-release/tf-gpu.1-15:m55"
  },
  "kernelspec": {
   "display_name": "Python 3",
   "language": "python",
   "name": "python3"
  },
  "language_info": {
   "codemirror_mode": {
    "name": "ipython",
    "version": 3
   },
   "file_extension": ".py",
   "mimetype": "text/x-python",
   "name": "python",
   "nbconvert_exporter": "python",
   "pygments_lexer": "ipython3",
   "version": "3.7.4"
  }
 },
 "nbformat": 4,
 "nbformat_minor": 4
}
